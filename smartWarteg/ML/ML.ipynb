{
 "cells": [
  {
   "cell_type": "markdown",
   "metadata": {},
   "source": [
    "### Dish"
   ]
  },
  {
   "cell_type": "code",
   "execution_count": 3,
   "metadata": {},
   "outputs": [
    {
     "name": "stdout",
     "output_type": "stream",
     "text": [
      "Root Mean Squared Error (RMSE): 0.24976356100969208\n",
      "Mean Squared Error (MSE): 0.06238183640824217\n",
      "Error Percentage: inf%\n"
     ]
    }
   ],
   "source": [
    "# Import necessary libraries\n",
    "import pandas as pd\n",
    "from sklearn.model_selection import train_test_split\n",
    "from sklearn.linear_model import LinearRegression\n",
    "from sklearn.metrics import mean_squared_error\n",
    "from math import sqrt\n",
    "import joblib\n",
    "\n",
    "# Load the data\n",
    "data = pd.read_csv('dish.csv')\n",
    "\n",
    "# Select features and target\n",
    "X = data[['dish_level_detector', 'waterflow_monitor', 'dish_weight_reader']]\n",
    "y = data['dish_cleaner_rotator']\n",
    "\n",
    "# Split the dataset\n",
    "X_train, X_test, y_train, y_test = train_test_split(X, y, test_size=0.2, random_state=42)\n",
    "\n",
    "# Train the model\n",
    "model = LinearRegression()\n",
    "model.fit(X_train, y_train)\n",
    "\n",
    "# Save the model\n",
    "joblib.dump(model, 'dish_cleaner_rotator.joblib')\n",
    "\n",
    "# Make predictions\n",
    "y_pred = model.predict(X_test)\n",
    "\n",
    "# Evaluate the model\n",
    "rmse = sqrt(mean_squared_error(y_test, y_pred))\n",
    "mse = mean_squared_error(y_test, y_pred)\n",
    "error_percentage = (sum(abs(y_test - y_pred) / y_test) / len(y_test)) * 100\n",
    "\n",
    "print(f'Root Mean Squared Error (RMSE): {rmse}')\n",
    "print(f'Mean Squared Error (MSE): {mse}')\n",
    "print(f'Error Percentage: {error_percentage}%')\n"
   ]
  },
  {
   "cell_type": "code",
   "execution_count": 4,
   "metadata": {},
   "outputs": [
    {
     "name": "stdout",
     "output_type": "stream",
     "text": [
      "Root Mean Squared Error (RMSE): 0.27117872235704693\n",
      "Mean Squared Error (MSE): 0.07353789945920035\n",
      "Error Percentage: inf%\n"
     ]
    }
   ],
   "source": [
    "# Import necessary libraries\n",
    "import pandas as pd\n",
    "from sklearn.model_selection import train_test_split\n",
    "from sklearn.linear_model import LinearRegression\n",
    "from sklearn.metrics import mean_squared_error\n",
    "from math import sqrt\n",
    "import joblib\n",
    "\n",
    "# Load the data\n",
    "data = pd.read_csv('dish.csv')\n",
    "\n",
    "# Select features and target\n",
    "X = data[['dish_level_detector', 'waterflow_monitor', 'dish_weight_reader']]\n",
    "y = data['dish_soap_pump']\n",
    "\n",
    "# Split the dataset\n",
    "X_train, X_test, y_train, y_test = train_test_split(X, y, test_size=0.2, random_state=42)\n",
    "\n",
    "# Train the model\n",
    "model = LinearRegression()\n",
    "model.fit(X_train, y_train)\n",
    "\n",
    "# Save the model\n",
    "joblib.dump(model, 'dish_soap_pump.joblib')\n",
    "\n",
    "# Make predictions\n",
    "y_pred = model.predict(X_test)\n",
    "\n",
    "# Evaluate the model\n",
    "rmse = sqrt(mean_squared_error(y_test, y_pred))\n",
    "mse = mean_squared_error(y_test, y_pred)\n",
    "error_percentage = (sum(abs(y_test - y_pred) / y_test) / len(y_test)) * 100\n",
    "\n",
    "print(f'Root Mean Squared Error (RMSE): {rmse}')\n",
    "print(f'Mean Squared Error (MSE): {mse}')\n",
    "print(f'Error Percentage: {error_percentage}%')\n"
   ]
  },
  {
   "cell_type": "code",
   "execution_count": 3,
   "metadata": {},
   "outputs": [
    {
     "name": "stdout",
     "output_type": "stream",
     "text": [
      "Root Mean Squared Error (RMSE): 0.0\n",
      "Mean Squared Error (MSE): 0.0\n",
      "Error Percentage: 0.0%\n"
     ]
    }
   ],
   "source": [
    "# Import necessary libraries\n",
    "import pandas as pd\n",
    "from sklearn.model_selection import train_test_split\n",
    "from sklearn.ensemble import RandomForestRegressor\n",
    "from sklearn.metrics import mean_squared_error\n",
    "from math import sqrt\n",
    "import joblib\n",
    "\n",
    "# Load the data\n",
    "data = pd.read_csv('dish.csv')\n",
    "\n",
    "# Select features and target\n",
    "X = data[['dish_level_detector', 'waterflow_monitor', 'dish_weight_reader']]\n",
    "y = data['sink_water_valve']\n",
    "\n",
    "# Split the dataset\n",
    "X_train, X_test, y_train, y_test = train_test_split(X, y, test_size=0.2, random_state=42)\n",
    "\n",
    "# Train the model\n",
    "model = RandomForestRegressor(random_state=42)\n",
    "model.fit(X_train, y_train)\n",
    "\n",
    "# Save the model\n",
    "joblib.dump(model, 'sink_water_valve.joblib')\n",
    "\n",
    "# Make predictions\n",
    "y_pred = model.predict(X_test)\n",
    "\n",
    "# Evaluate the model\n",
    "rmse = sqrt(mean_squared_error(y_test, y_pred))\n",
    "mse = mean_squared_error(y_test, y_pred)\n",
    "error_percentage = (sum(abs(y_test - y_pred) / y_test) / len(y_test)) * 100\n",
    "\n",
    "print(f'Root Mean Squared Error (RMSE): {rmse}')\n",
    "print(f'Mean Squared Error (MSE): {mse}')\n",
    "print(f'Error Percentage: {error_percentage}%')\n"
   ]
  },
  {
   "cell_type": "markdown",
   "metadata": {},
   "source": [
    "### Stove"
   ]
  },
  {
   "cell_type": "code",
   "execution_count": 6,
   "metadata": {},
   "outputs": [
    {
     "name": "stdout",
     "output_type": "stream",
     "text": [
      "Root Mean Squared Error (RMSE): 6.261118145914806\n",
      "Mean Squared Error (MSE): 39.201600437103664\n",
      "Error Percentage: inf%\n"
     ]
    }
   ],
   "source": [
    "# Import necessary libraries\n",
    "import pandas as pd\n",
    "from sklearn.model_selection import train_test_split\n",
    "from sklearn.linear_model import LinearRegression\n",
    "from sklearn.metrics import mean_squared_error\n",
    "from math import sqrt\n",
    "import joblib\n",
    "\n",
    "# Load the data\n",
    "data = pd.read_csv('stove.csv')\n",
    "\n",
    "# Select features and target\n",
    "X = data[['temperature_reader', 'gas_leak_detector', 'smoke_detector']]\n",
    "y = data['water_sprinkler']\n",
    "\n",
    "# Split the dataset\n",
    "X_train, X_test, y_train, y_test = train_test_split(X, y, test_size=0.2, random_state=42)\n",
    "\n",
    "# Train the model\n",
    "model = LinearRegression()\n",
    "model.fit(X_train, y_train)\n",
    "\n",
    "# Save the model\n",
    "joblib.dump(model, 'water_sprinkler_model.joblib')\n",
    "\n",
    "# Make predictions\n",
    "y_pred = model.predict(X_test)\n",
    "\n",
    "# Evaluate the model\n",
    "rmse = sqrt(mean_squared_error(y_test, y_pred))\n",
    "mse = mean_squared_error(y_test, y_pred)\n",
    "error_percentage = (sum(abs(y_test - y_pred) / y_test) / len(y_test)) * 100\n",
    "\n",
    "print(f'Root Mean Squared Error (RMSE): {rmse}')\n",
    "print(f'Mean Squared Error (MSE): {mse}')\n",
    "print(f'Error Percentage: {error_percentage}%')\n"
   ]
  },
  {
   "cell_type": "code",
   "execution_count": 7,
   "metadata": {},
   "outputs": [
    {
     "name": "stdout",
     "output_type": "stream",
     "text": [
      "Root Mean Squared Error (RMSE): 1.115123643166123e-15\n",
      "Mean Squared Error (MSE): 1.243500739548087e-30\n",
      "Error Percentage: inf%\n"
     ]
    }
   ],
   "source": [
    "# Import necessary libraries\n",
    "import pandas as pd\n",
    "from sklearn.model_selection import train_test_split\n",
    "from sklearn.linear_model import LinearRegression\n",
    "from sklearn.metrics import mean_squared_error\n",
    "from math import sqrt\n",
    "import joblib\n",
    "\n",
    "# Load the data\n",
    "data = pd.read_csv('stove.csv')\n",
    "\n",
    "# Select features and target\n",
    "X = data[['temperature_reader', 'gas_leak_detector', 'smoke_detector']]\n",
    "y = data['gas_exhaust']\n",
    "\n",
    "# Split the dataset\n",
    "X_train, X_test, y_train, y_test = train_test_split(X, y, test_size=0.2, random_state=42)\n",
    "\n",
    "# Train the model\n",
    "model = LinearRegression()\n",
    "model.fit(X_train, y_train)\n",
    "\n",
    "# Save the model\n",
    "joblib.dump(model, 'gas_exhaust_model.joblib')\n",
    "\n",
    "# Make predictions\n",
    "y_pred = model.predict(X_test)\n",
    "\n",
    "# Evaluate the model\n",
    "rmse = sqrt(mean_squared_error(y_test, y_pred))\n",
    "mse = mean_squared_error(y_test, y_pred)\n",
    "error_percentage = (sum(abs(y_test - y_pred) / y_test) / len(y_test)) * 100\n",
    "\n",
    "print(f'Root Mean Squared Error (RMSE): {rmse}')\n",
    "print(f'Mean Squared Error (MSE): {mse}')\n",
    "print(f'Error Percentage: {error_percentage}%')\n"
   ]
  },
  {
   "cell_type": "code",
   "execution_count": 8,
   "metadata": {},
   "outputs": [
    {
     "name": "stdout",
     "output_type": "stream",
     "text": [
      "Root Mean Squared Error (RMSE): 0.0\n",
      "Mean Squared Error (MSE): 0.0\n",
      "Error Percentage: 0.0%\n"
     ]
    }
   ],
   "source": [
    "# Import necessary libraries\n",
    "import pandas as pd\n",
    "from sklearn.model_selection import train_test_split\n",
    "from sklearn.ensemble import RandomForestRegressor\n",
    "from sklearn.metrics import mean_squared_error\n",
    "from math import sqrt\n",
    "import joblib\n",
    "\n",
    "# Load the data\n",
    "data = pd.read_csv('stove.csv')\n",
    "\n",
    "# Select features and target\n",
    "X = data[['temperature_reader', 'gas_leak_detector', 'smoke_detector']]\n",
    "y = data['fire_alarm']\n",
    "\n",
    "# Split the dataset\n",
    "X_train, X_test, y_train, y_test = train_test_split(X, y, test_size=0.2, random_state=42)\n",
    "\n",
    "# Train the model\n",
    "model = RandomForestRegressor(random_state=42)\n",
    "model.fit(X_train, y_train)\n",
    "\n",
    "# Save the model\n",
    "joblib.dump(model, 'fire_alarm_model.joblib')\n",
    "\n",
    "# Make predictions\n",
    "y_pred = model.predict(X_test)\n",
    "\n",
    "# Evaluate the model\n",
    "rmse = sqrt(mean_squared_error(y_test, y_pred))\n",
    "mse = mean_squared_error(y_test, y_pred)\n",
    "error_percentage = (sum(abs(y_test - y_pred) / y_test) / len(y_test)) * 100\n",
    "\n",
    "print(f'Root Mean Squared Error (RMSE): {rmse}')\n",
    "print(f'Mean Squared Error (MSE): {mse}')\n",
    "print(f'Error Percentage: {error_percentage}%')\n"
   ]
  },
  {
   "cell_type": "markdown",
   "metadata": {},
   "source": [
    "### Customer"
   ]
  },
  {
   "cell_type": "code",
   "execution_count": 2,
   "metadata": {},
   "outputs": [
    {
     "name": "stdout",
     "output_type": "stream",
     "text": [
      "Root Mean Squared Error (RMSE): 0.0\n",
      "Mean Squared Error (MSE): 0.0\n",
      "Error Percentage: 0.0%\n"
     ]
    }
   ],
   "source": [
    "# Import necessary libraries\n",
    "import pandas as pd\n",
    "from sklearn.model_selection import train_test_split\n",
    "from sklearn.ensemble import RandomForestRegressor\n",
    "from sklearn.metrics import mean_squared_error\n",
    "from math import sqrt\n",
    "import joblib\n",
    "\n",
    "# Load the data\n",
    "data = pd.read_csv('customer.csv')\n",
    "\n",
    "# Select features and target\n",
    "X = data[['camera', 'motion_detector', 'sound_sensor']]\n",
    "y = data['sound_alert']\n",
    "\n",
    "# Split the dataset\n",
    "X_train, X_test, y_train, y_test = train_test_split(X, y, test_size=0.2, random_state=42)\n",
    "\n",
    "# Train the model\n",
    "model = RandomForestRegressor(random_state=42)\n",
    "model.fit(X_train, y_train)\n",
    "\n",
    "# Save the model\n",
    "joblib.dump(model, 'sound_alert_model.joblib')\n",
    "\n",
    "# Make predictions\n",
    "y_pred = model.predict(X_test)\n",
    "\n",
    "# Convert predictions to integers (assuming sound_alert is a categorical variable)\n",
    "y_pred = y_pred.round().astype(int)\n",
    "\n",
    "# Evaluate the model\n",
    "rmse = sqrt(mean_squared_error(y_test, y_pred))\n",
    "mse = mean_squared_error(y_test, y_pred)\n",
    "error_percentage = (sum(abs(y_test - y_pred) / y_test) / len(y_test)) * 100\n",
    "\n",
    "print(f'Root Mean Squared Error (RMSE): {rmse}')\n",
    "print(f'Mean Squared Error (MSE): {mse}')\n",
    "print(f'Error Percentage: {error_percentage}%')\n"
   ]
  },
  {
   "cell_type": "code",
   "execution_count": 1,
   "metadata": {},
   "outputs": [
    {
     "name": "stdout",
     "output_type": "stream",
     "text": [
      "Root Mean Squared Error (RMSE): 0.0\n",
      "Mean Squared Error (MSE): 0.0\n",
      "Error Percentage: 0.0%\n"
     ]
    }
   ],
   "source": [
    "# Import necessary libraries\n",
    "import pandas as pd\n",
    "from sklearn.model_selection import train_test_split\n",
    "from sklearn.ensemble import RandomForestRegressor\n",
    "from sklearn.metrics import mean_squared_error\n",
    "from math import sqrt\n",
    "import joblib\n",
    "\n",
    "# Load the data\n",
    "data = pd.read_csv('customer.csv')\n",
    "\n",
    "# Select features and target\n",
    "X = data[['camera', 'motion_detector', 'sound_sensor']]\n",
    "y = data['light']\n",
    "\n",
    "# Split the dataset\n",
    "X_train, X_test, y_train, y_test = train_test_split(X, y, test_size=0.2, random_state=42)\n",
    "\n",
    "# Train the model\n",
    "model = RandomForestRegressor(random_state=42)\n",
    "model.fit(X_train, y_train)\n",
    "\n",
    "# Save the model\n",
    "joblib.dump(model, 'light_model.joblib')\n",
    "\n",
    "# Make predictions\n",
    "y_pred = model.predict(X_test)\n",
    "\n",
    "# Convert predictions to integers (assuming light is a categorical variable)\n",
    "y_pred = y_pred.round().astype(int)\n",
    "\n",
    "# Evaluate the model\n",
    "rmse = sqrt(mean_squared_error(y_test, y_pred))\n",
    "mse = mean_squared_error(y_test, y_pred)\n",
    "error_percentage = (sum(abs(y_test - y_pred) / y_test) / len(y_test)) * 100\n",
    "\n",
    "print(f'Root Mean Squared Error (RMSE): {rmse}')\n",
    "print(f'Mean Squared Error (MSE): {mse}')\n",
    "print(f'Error Percentage: {error_percentage}%')\n"
   ]
  },
  {
   "cell_type": "code",
   "execution_count": 11,
   "metadata": {},
   "outputs": [
    {
     "name": "stdout",
     "output_type": "stream",
     "text": [
      "Root Mean Squared Error (RMSE): 0.0\n",
      "Mean Squared Error (MSE): 0.0\n",
      "Error Percentage: nan%\n"
     ]
    }
   ],
   "source": [
    "# Import necessary libraries\n",
    "import pandas as pd\n",
    "from sklearn.model_selection import train_test_split\n",
    "from sklearn.linear_model import LinearRegression\n",
    "from sklearn.metrics import mean_squared_error\n",
    "from math import sqrt\n",
    "import joblib\n",
    "\n",
    "# Load the data\n",
    "data = pd.read_csv('customer.csv')\n",
    "\n",
    "# Select features and target\n",
    "X = data[['camera', 'motion_detector', 'sound_sensor']]\n",
    "y = data['monitor']\n",
    "\n",
    "# Split the dataset\n",
    "X_train, X_test, y_train, y_test = train_test_split(X, y, test_size=0.2, random_state=42)\n",
    "\n",
    "# Train the model\n",
    "model = LinearRegression()\n",
    "model.fit(X_train, y_train)\n",
    "\n",
    "# Save the model\n",
    "joblib.dump(model, 'monitor_model.joblib')\n",
    "\n",
    "# Make predictions\n",
    "y_pred = model.predict(X_test)\n",
    "\n",
    "# Convert predictions to integers (assuming monitor is a categorical variable)\n",
    "y_pred = y_pred.round().astype(int)\n",
    "\n",
    "# Evaluate the model\n",
    "rmse = sqrt(mean_squared_error(y_test, y_pred))\n",
    "mse = mean_squared_error(y_test, y_pred)\n",
    "error_percentage = (sum(abs(y_test - y_pred) / y_test) / len(y_test)) * 100\n",
    "\n",
    "print(f'Root Mean Squared Error (RMSE): {rmse}')\n",
    "print(f'Mean Squared Error (MSE): {mse}')\n",
    "print(f'Error Percentage: {error_percentage}%')\n"
   ]
  }
 ],
 "metadata": {
  "kernelspec": {
   "display_name": "Python 3.11.4 64-bit",
   "language": "python",
   "name": "python3"
  },
  "language_info": {
   "codemirror_mode": {
    "name": "ipython",
    "version": 3
   },
   "file_extension": ".py",
   "mimetype": "text/x-python",
   "name": "python",
   "nbconvert_exporter": "python",
   "pygments_lexer": "ipython3",
   "version": "3.11.4"
  },
  "orig_nbformat": 4,
  "vscode": {
   "interpreter": {
    "hash": "9e656f3f55dd8b6463f9fa0d4fcd0ebcd8685aa7126a00c9452d28f5335cd60f"
   }
  }
 },
 "nbformat": 4,
 "nbformat_minor": 2
}
